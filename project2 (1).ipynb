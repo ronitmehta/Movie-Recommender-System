{
  "cells": [
    {
      "cell_type": "markdown",
      "metadata": {
        "id": "a9F-sCFuQKMk"
      },
      "source": [
        "\n",
        "\n",
        "\n",
        "# Reading Data\n",
        "\n",
        "\n"
      ]
    },
    {
      "cell_type": "code",
      "execution_count": null,
      "metadata": {
        "id": "JyuknJWgQFqL"
      },
      "outputs": [],
      "source": [
        "RatingsPath = r'C:\\Users\\ASUS\\Desktop\\CF\\data\\ml-1m\\ratings.dat'\n",
        "Open = open(RatingsPath, 'r')\n",
        "Rating = Open.read()\n",
        "\n",
        "raw = Rating.split(\"\\n\")"
      ]
    },
    {
      "cell_type": "code",
      "execution_count": null,
      "metadata": {
        "id": "DLZY-ODDQFqR"
      },
      "outputs": [],
      "source": [
        "DATA = [[],[],[]]\n",
        "mat = []\n",
        "check = 1\n",
        "t = []\n",
        "for i in range(0, len(raw)-1):\n",
        "  temp = raw[i].split('::')\n",
        "  userID = int(temp[0])\n",
        "  itemID = int(temp[1])\n",
        "  val = int(temp[2])\n",
        "  ls =[]\n",
        "  # ls.append(userID-1)\n",
        "  ls.append(itemID-1)\n",
        "  ls.append(val)\n",
        "  if(userID==check):\n",
        "    t.append(ls)\n",
        "  else:\n",
        "    mat.append(t)\n",
        "    check = userID\n",
        "    t = []\n",
        "  DATA[0].append(userID)\n",
        "  DATA[1].append(itemID)\n",
        "  DATA[2].append(val)"
      ]
    },
    {
      "cell_type": "code",
      "execution_count": null,
      "metadata": {
        "id": "8gEXnVcuQFqS"
      },
      "outputs": [],
      "source": [
        "MatrixForTrain = []\n",
        "MatrixForTest = []\n",
        "\n",
        "def build(mat):\n",
        "  items = 3952\n",
        "  users = 6040\n",
        "  for i in range(users):\n",
        "    temp = []\n",
        "    for j in range(items):\n",
        "      temp.append(-1);\n",
        "    mat.append(temp)\n",
        "    # MatrixForTest.append(temp)\n",
        "    # print(len(MatrixForTrain))\n",
        "\n",
        "build(MatrixForTrain)\n",
        "build(MatrixForTest)"
      ]
    },
    {
      "cell_type": "code",
      "execution_count": null,
      "metadata": {
        "id": "FHPgP1tsQFqS"
      },
      "outputs": [],
      "source": [
        "def function(user, train, idx, test):\n",
        "    num = int(len(user)*0.7)\n",
        "    for i in range(0, num):\n",
        "        ls = user[i]\n",
        "        train[idx][ls[0]] = ls[1]\n",
        "    \n",
        "    for i in range(i, len(user)):\n",
        "        ls = user[i]\n",
        "        test[idx][ls[0]] = ls[1]\n"
      ]
    },
    {
      "cell_type": "code",
      "execution_count": null,
      "metadata": {
        "id": "N0NkduzCQFqT"
      },
      "outputs": [],
      "source": [
        "for i in range(0, len(mat)):\n",
        "    function(mat[i], MatrixForTrain, i, MatrixForTest)"
      ]
    },
    {
      "cell_type": "code",
      "execution_count": null,
      "metadata": {
        "id": "qG5n8lscQgHm"
      },
      "outputs": [],
      "source": [
        "def MAE(X, Y):\n",
        "  count = 0\n",
        "  for i in range(len(X)):\n",
        "    count = count + (abs(X[i] - Y[i]))\n",
        "  return float(count)/float(len(X))\n",
        "\n",
        "  def NMAE(X, Y):\n",
        "  val = MAE(X, Y)\n",
        "  i = max(X)-min(X)\n",
        "  if(i!=0):\n",
        "    return val/i\n",
        "  return val"
      ]
    },
    {
      "cell_type": "markdown",
      "metadata": {
        "id": "mPCe7hAuQjr8"
      },
      "source": [
        "# Nueral Network to obtain the weights"
      ]
    },
    {
      "cell_type": "code",
      "execution_count": null,
      "metadata": {
        "id": "gpnXaI6CQFqT"
      },
      "outputs": [],
      "source": [
        "import numpy as np\n",
        "import pandas as pd\n",
        "from tensorflow import keras\n",
        "from sklearn.decomposition import TruncatedSVD\n",
        "from sklearn.model_selection import train_test_split\n",
        "from keras.layers import Input, Dense, Dropout\n",
        "from keras.models import Model"
      ]
    },
    {
      "cell_type": "code",
      "execution_count": null,
      "metadata": {
        "id": "HuxK09kQQFqU"
      },
      "outputs": [],
      "source": [
        "dictionary = {\n",
        "    'userId' : DATA[0],\n",
        "    'movieId' : DATA[1],\n",
        "    'rating' : DATA[2]\n",
        "}\n",
        "\n",
        "data = pd.DataFrame(dictionary)"
      ]
    },
    {
      "cell_type": "code",
      "execution_count": null,
      "metadata": {
        "id": "W1JcFK5aQFqU"
      },
      "outputs": [],
      "source": [
        "num_users = len(data['userId'].unique())\n",
        "num_items = len(data['movieId'].unique())"
      ]
    },
    {
      "cell_type": "markdown",
      "metadata": {
        "id": "uIYilO_wQ1Ld"
      },
      "source": [
        "spliting dataSet"
      ]
    },
    {
      "cell_type": "code",
      "execution_count": null,
      "metadata": {
        "id": "18Q_NyfLQFqV"
      },
      "outputs": [],
      "source": [
        "train_data, test_data = train_test_split(data, test_size=0.2)"
      ]
    },
    {
      "cell_type": "markdown",
      "metadata": {
        "id": "avbNm4toQ55D"
      },
      "source": [
        "defining model"
      ]
    },
    {
      "cell_type": "code",
      "execution_count": null,
      "metadata": {
        "id": "tKoVzIwbQFqV"
      },
      "outputs": [],
      "source": [
        "def ncf_model(num_users, num_items, embedding_size=32, hidden_units=[64, 32, 16]):\n",
        "    \n",
        "    user_input = Input(shape=(1,), name='user_input')\n",
        "    item_input = Input(shape=(1,), name='item_input')\n",
        "    \n",
        "    \n",
        "    user_embedding = Dense(embedding_size, name='user_embedding')(user_input)\n",
        "    item_embedding = Dense(embedding_size, name='item_embedding')(item_input)\n",
        "    \n",
        "    \n",
        "    concatenated = keras.layers.Concatenate()([user_embedding, item_embedding])\n",
        "    \n",
        "   \n",
        "    for i, units in enumerate(hidden_units):\n",
        "        concatenated = Dense(units, activation='relu', name=f'hidden_layer_{i}')(concatenated)\n",
        "        concatenated = Dropout(0.5)(concatenated)\n",
        "    \n",
        "  \n",
        "    output = Dense(1, activation='sigmoid', name='output_layer')(concatenated)\n",
        "    \n",
        "    \n",
        "    model = Model(inputs=[user_input, item_input], outputs=output)\n",
        "    \n",
        "    return model"
      ]
    },
    {
      "cell_type": "markdown",
      "metadata": {
        "id": "A4T2j0XkRB47"
      },
      "source": [
        "compiling model"
      ]
    },
    {
      "cell_type": "code",
      "execution_count": null,
      "metadata": {
        "id": "NWI1H44oQFqW"
      },
      "outputs": [],
      "source": [
        "model = ncf_model(num_users, num_items)\n",
        "model.compile(loss='binary_crossentropy', optimizer='adam')"
      ]
    },
    {
      "cell_type": "markdown",
      "metadata": {
        "id": "hFYF7XfTREBb"
      },
      "source": [
        "Training the model"
      ]
    },
    {
      "cell_type": "code",
      "execution_count": null,
      "metadata": {
        "id": "AohnsRbSQFqW"
      },
      "outputs": [],
      "source": [
        "history = model.fit([train_data['userId'], train_data['movieId']], train_data['rating'], batch_size=64, epochs=10, validation_split=0.2, verbose = 0)"
      ]
    },
    {
      "cell_type": "markdown",
      "metadata": {
        "id": "iOVPESgDRIe7"
      },
      "source": [
        "Making prediction"
      ]
    },
    {
      "cell_type": "code",
      "execution_count": null,
      "metadata": {
        "id": "wqDdVRyXQFqW",
        "outputId": "6f9615cb-b2b0-4f1a-80fe-dc61db2c072d"
      },
      "outputs": [
        {
          "name": "stdout",
          "output_type": "stream",
          "text": [
            "6252/6252 [==============================] - 9s 1ms/step\n"
          ]
        }
      ],
      "source": [
        "predictions = model.predict([test_data['userId'], test_data['movieId']])"
      ]
    },
    {
      "cell_type": "markdown",
      "metadata": {
        "id": "C4OvfG1uRLLT"
      },
      "source": [
        "## getting Output"
      ]
    },
    {
      "cell_type": "code",
      "execution_count": null,
      "metadata": {
        "id": "QCXQK4rPQFqX"
      },
      "outputs": [],
      "source": [
        "output_from_neural_network = []\n",
        "for i in range(0, len(predictions)):\n",
        "    output_from_neural_network.append(float(predictions[i][0]))"
      ]
    },
    {
      "cell_type": "code",
      "execution_count": null,
      "metadata": {
        "id": "-KuI_fwhQFqX"
      },
      "outputs": [],
      "source": [
        "def update_output(output_from_neural_network):\n",
        "    for i in range(len(output_from_neural_network),306922):\n",
        "        output_from_neural_network.append(1)\n",
        "\n",
        "update_output(output_from_neural_network)\n"
      ]
    },
    {
      "cell_type": "markdown",
      "metadata": {
        "id": "u9Lfq-n2RPMU"
      },
      "source": [
        "#Reading preproceesing data generated by the knowledge Graph"
      ]
    },
    {
      "cell_type": "code",
      "execution_count": null,
      "metadata": {
        "id": "XXtqVzH5QFqX"
      },
      "outputs": [],
      "source": [
        "preprocessDataPath = r'C:\\Users\\ASUS\\Desktop\\CF\\preprocess.txt'\n",
        "Open1 = open(preprocessDataPath, 'r')\n",
        "preprocessRaw = Open1.read()\n",
        "preProcess = preprocessRaw.split(\"\\n\")"
      ]
    },
    {
      "cell_type": "markdown",
      "metadata": {
        "id": "ot4O7jOsRcdZ"
      },
      "source": [
        "## Reading preprocessing data"
      ]
    },
    {
      "cell_type": "code",
      "execution_count": null,
      "metadata": {
        "id": "l7bj5QR9QFqY"
      },
      "outputs": [],
      "source": [
        "def getRowForPreProcess(preProcess, idx):\n",
        "    row = preProcess[idx].strip(']')\n",
        "    row = row.strip('[')\n",
        "    row = row.split(',')\n",
        "    for j in range(len(row)):\n",
        "        row[j] = float(row[j])\n",
        "    \n",
        "    return row\n",
        "\n",
        "def getPreProcessMatrix(preProcess):\n",
        "    matrix = []\n",
        "    for idx in range(0, len(preProcess)-1):\n",
        "        # print(idx)\n",
        "        matrix.append(getRowForPreProcess(preProcess, idx))\n",
        "    matrix.append([])\n",
        "    return matrix"
      ]
    },
    {
      "cell_type": "code",
      "execution_count": null,
      "metadata": {
        "id": "oDPvxPOPQFqY"
      },
      "outputs": [],
      "source": [
        "PrepocessData = getPreProcessMatrix(preProcess)"
      ]
    },
    {
      "cell_type": "code",
      "execution_count": null,
      "metadata": {
        "id": "D1rn2i8VQFqZ"
      },
      "outputs": [],
      "source": [
        "userMean =[]\n",
        "for i in range(len(MatrixForTrain)):\n",
        "  tempCount = 0\n",
        "  temp = 0\n",
        "  for j in range(len(MatrixForTrain[i])):\n",
        "    if(MatrixForTrain[i][j]!=-1):\n",
        "      temp = temp + MatrixForTrain[i][j]\n",
        "      tempCount = tempCount + 1\n",
        "  if(tempCount==0):\n",
        "    userMean.append(1)\n",
        "  else:\n",
        "    userMean.append(float(temp)/tempCount)"
      ]
    },
    {
      "cell_type": "markdown",
      "metadata": {
        "id": "xMMothyhRlRT"
      },
      "source": [
        "#Helper function"
      ]
    },
    {
      "cell_type": "code",
      "execution_count": null,
      "metadata": {
        "id": "gEAuZuu_QFqZ"
      },
      "outputs": [],
      "source": [
        "def helper(matTrain, matSimilarity, userMean, item, user, K):\n",
        "  similarities = {}\n",
        "  for i in range(0, 943):\n",
        "    if(i!=user):\n",
        "      mi = min(user, i)\n",
        "      ma = max(user, i)\n",
        "      sim = matSimilarity[mi][ma-mi-1]\n",
        "      if(mi==user):\n",
        "        similarities[ma] = sim\n",
        "      else:\n",
        "        similarities[mi] = sim\n",
        "  sortedSimilarity = sorted(similarities.items(), key=lambda x:x[1])\n",
        "  simItem = []\n",
        "  i = len(sortedSimilarity)-1\n",
        "  while(len(simItem)!=K and i>=0):\n",
        "    u = sortedSimilarity[i][0]\n",
        "    it = matTrain[u][item]\n",
        "    if(it!=-1):\n",
        "      ls = []\n",
        "      ls.append(sortedSimilarity[i][1])\n",
        "      ls.append(it- userMean[u])\n",
        "      simItem.append(ls)\n",
        "    i = i - 1\n",
        "\n",
        "  upper = 0\n",
        "  \n",
        "  lower = 0\n",
        "  \n",
        "  for i in range(len(simItem)):\n",
        "    lower = lower + abs(simItem[i][0])\n",
        "    upper = upper + simItem[i][0]*simItem[i][1]\n",
        "\n",
        "  if(lower==0):\n",
        "    return round(userMean[user] + 0)\n",
        "  ans = upper/lower\n",
        "  ans = round(userMean[user] + ans)\n",
        "  return ans"
      ]
    },
    {
      "cell_type": "code",
      "execution_count": null,
      "metadata": {
        "id": "IJk6XwpHQFqa"
      },
      "outputs": [],
      "source": [
        "def getRootMeanSquareValue(X, Y):\n",
        "    val = 0\n",
        "    for i in range(len(X)):\n",
        "        num = abs(X[i]-Y[i])\n",
        "        num = num**2\n",
        "        val = val + num\n",
        "    \n",
        "    val = val/len(X)\n",
        "    \n",
        "    return val**0.5\n"
      ]
    },
    {
      "cell_type": "code",
      "execution_count": null,
      "metadata": {
        "id": "6eLp8KSiQFqa"
      },
      "outputs": [],
      "source": [
        "def all(listForTest, matrixUser, matrixSimilarity, userMean, K):\n",
        "  ls = []\n",
        "  for i in range(len(listForTest)):\n",
        "    u = listForTest[i][0]\n",
        "    i = listForTest[i][1]\n",
        "    temp = helper(matrixUser, matrixSimilarity,userMean, i, u, K)\n",
        "    ls.append(temp)\n",
        "  return ls"
      ]
    },
    {
      "cell_type": "code",
      "execution_count": null,
      "metadata": {
        "id": "324X2nO1QFqb"
      },
      "outputs": [],
      "source": [
        "def hm(matforTest, listForTest):\n",
        "  hm = []\n",
        "  for i in range(len(listForTest)):\n",
        "    temp = matforTest[listForTest[i][0]][listForTest[i][1]]\n",
        "    hm.append(temp)\n",
        "  return hm"
      ]
    },
    {
      "cell_type": "code",
      "execution_count": null,
      "metadata": {
        "id": "rhf-8RS8QFqb"
      },
      "outputs": [],
      "source": [
        "def getUserItemForTest(mat):\n",
        "  ls = []\n",
        "  for i in range(len(mat)):\n",
        "    for j in range(len(mat[i])):\n",
        "      if(mat[i][j]!=-1):\n",
        "        temp = []\n",
        "        temp.append(i)\n",
        "        temp.append(j)\n",
        "        ls.append(temp)\n",
        "  return ls"
      ]
    },
    {
      "cell_type": "code",
      "execution_count": null,
      "metadata": {
        "id": "XhJVDCCjQFqb"
      },
      "outputs": [],
      "source": [
        "listForTest = getUserItemForTest(MatrixForTest)"
      ]
    },
    {
      "cell_type": "markdown",
      "metadata": {
        "id": "_9Rz3Bn5UbIk"
      },
      "source": [
        "# combining knowledge graph data to the svd to get final output"
      ]
    },
    {
      "cell_type": "code",
      "execution_count": null,
      "metadata": {
        "id": "DMBsl11NQFqb"
      },
      "outputs": [],
      "source": [
        "result = all(listForTest, MatrixForTest, PrepocessData, userMean, 5)  "
      ]
    },
    {
      "cell_type": "code",
      "execution_count": null,
      "metadata": {
        "id": "_WgTWgp3QFqc"
      },
      "outputs": [],
      "source": [
        "test = hm(MatrixForTest, listForTest)"
      ]
    },
    {
      "cell_type": "code",
      "execution_count": null,
      "metadata": {
        "id": "sJYHNLEjQFqc"
      },
      "outputs": [],
      "source": [
        "def updateFin(matForUser, listOfIndex, values, userMean):\n",
        "  for i in range(len(listOfIndex)):\n",
        "    matForUser[listOfIndex[i][0]][listOfIndex[i][1]] = values[i]\n",
        "  \n",
        "  for i in range(len(matForUser)):\n",
        "    for j in range(len(matForUser[i])):\n",
        "      if(matForUser[i][j]==-1):\n",
        "        matForUser[i][j] = userMean[i]\n",
        "      matForUser[i][j] = float(matForUser[i][j])  "
      ]
    },
    {
      "cell_type": "code",
      "execution_count": null,
      "metadata": {
        "id": "R9P9l4r7QFqc"
      },
      "outputs": [],
      "source": [
        "updateFin(MatrixForTrain, listForTest, result, userMean)"
      ]
    },
    {
      "cell_type": "code",
      "execution_count": null,
      "metadata": {
        "id": "bcYgeCxsQFqc"
      },
      "outputs": [],
      "source": [
        "def fillMean(matforUser, userMean):\n",
        "  for i in range(len(matforUser)):\n",
        "    for j in range(len(matforUser[i])):\n",
        "      if(matforUser[i][j]==-1):\n",
        "        matforUser[i][j] = userMean[i]\n",
        "      matforUser[i][j] = float(matforUser[i][j])"
      ]
    },
    {
      "cell_type": "code",
      "execution_count": null,
      "metadata": {
        "id": "Ph7LFhY7QFqc"
      },
      "outputs": [],
      "source": [
        "fillMean(MatrixForTrain, userMean)"
      ]
    },
    {
      "cell_type": "code",
      "execution_count": null,
      "metadata": {
        "id": "Ye2jOegnQFqc"
      },
      "outputs": [],
      "source": [
        "def getResullts(listOfIndex, R_hat):\n",
        "  resultForUser= []\n",
        "  for i in range(len(listOfIndex)):\n",
        "    resultForUser.append(float(round(R_hat[listOfIndex[i][0]][listOfIndex[i][1]])))\n",
        "  return resultForUser"
      ]
    },
    {
      "cell_type": "markdown",
      "metadata": {
        "id": "zTtNpKTeSsh2"
      },
      "source": [
        "#Combining the output of Neural network and svd together to get final output"
      ]
    },
    {
      "cell_type": "code",
      "execution_count": null,
      "metadata": {
        "id": "n2g526bPQFqd"
      },
      "outputs": [],
      "source": [
        "import numpy as np\n",
        "from scipy.sparse.linalg import svds\n",
        "def final_output(output_from_neural_network,output_from_mf):\n",
        "  lst=[]\n",
        "  for i in range(len(output_from_neural_network)):\n",
        "    num  = output_from_neural_network[i]*output_from_mf[i]\n",
        "    lst.append(num)\n",
        "\n",
        "  return lst  \n",
        "\n",
        "\n",
        "def finalPredictedResults(output_from_neural_network,matForTrain, listForTest, testU, K, userMean):\n",
        "  R = [[]]\n",
        "  for i in range (100):\n",
        "    U, sigma, v = svds(np.array(matForTrain), K)\n",
        "    sigma = np.diag(sigma)\n",
        "    R = np.dot(np.dot(U, sigma), v)\n",
        "  for i in range(len(R)):\n",
        "    for j in range(len(R[0])):\n",
        "      R[i][j] = int(round(R[i][j]))\n",
        "  resultOfUser = getResullts(listForTest, R)\n",
        "\n",
        "  # combining neural network output to the svd\n",
        "  final_predicted_output=final_output(output_from_neural_network,resultOfUser)\n",
        "  print(\"RMSE: \", getRootMeanSquaresValue(testU, final_predicted_output))\n",
        " "
      ]
    },
    {
      "cell_type": "markdown",
      "metadata": {
        "id": "OvvE-_91S5lh"
      },
      "source": [
        "# RMSE value"
      ]
    },
    {
      "cell_type": "code",
      "execution_count": null,
      "metadata": {
        "id": "Wcc0B1MOQFqd",
        "outputId": "9d6ea06d-3f3a-4ec0-edcb-f3a4587fe1bd"
      },
      "outputs": [
        {
          "name": "stdout",
          "output_type": "stream",
          "text": [
            "RMSE:  0.8916308860328659\n"
          ]
        }
      ],
      "source": [
        "finalPredictedResults(output_from_neural_network, MatrixForTrain, listForTest,  test, 25, userMean)"
      ]
    }
  ],
  "metadata": {
    "colab": {
      "provenance": []
    },
    "kernelspec": {
      "display_name": "Python 3.10.4 64-bit",
      "language": "python",
      "name": "python3"
    },
    "language_info": {
      "codemirror_mode": {
        "name": "ipython",
        "version": 3
      },
      "file_extension": ".py",
      "mimetype": "text/x-python",
      "name": "python",
      "nbconvert_exporter": "python",
      "pygments_lexer": "ipython3",
      "version": "3.10.4"
    },
    "orig_nbformat": 4,
    "vscode": {
      "interpreter": {
        "hash": "369f2c481f4da34e4445cda3fffd2e751bd1c4d706f27375911949ba6bb62e1c"
      }
    }
  },
  "nbformat": 4,
  "nbformat_minor": 0
}
