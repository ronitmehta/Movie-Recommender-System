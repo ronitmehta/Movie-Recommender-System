{
 "cells": [
  {
   "cell_type": "code",
   "execution_count": 1,
   "metadata": {},
   "outputs": [],
   "source": [
    "RatingsPath = r'C:\\Users\\ASUS\\Desktop\\CF\\data\\ml-1m\\ratings.dat'\n",
    "Open = open(RatingsPath, 'r')\n",
    "Rating = Open.read()\n",
    "\n",
    "raw = Rating.split(\"\\n\")"
   ]
  },
  {
   "cell_type": "code",
   "execution_count": 2,
   "metadata": {},
   "outputs": [],
   "source": [
    "DATA = [[],[],[]]\n",
    "mat = []\n",
    "check = 1\n",
    "t = []\n",
    "for i in range(0, len(raw)-1):\n",
    "  temp = raw[i].split('::')\n",
    "  userID = int(temp[0])\n",
    "  itemID = int(temp[1])\n",
    "  val = int(temp[2])\n",
    "  ls =[]\n",
    "  # ls.append(userID-1)\n",
    "  ls.append(itemID-1)\n",
    "  ls.append(val)\n",
    "  if(userID==check):\n",
    "    t.append(ls)\n",
    "  else:\n",
    "    mat.append(t)\n",
    "    check = userID\n",
    "    t = []\n",
    "  DATA[0].append(userID)\n",
    "  DATA[1].append(itemID)\n",
    "  DATA[2].append(val)"
   ]
  },
  {
   "cell_type": "code",
   "execution_count": 3,
   "metadata": {},
   "outputs": [],
   "source": [
    "MatrixForTrain = []\n",
    "MatrixForTest = []\n",
    "\n",
    "def build(mat):\n",
    "  items = 3952\n",
    "  users = 6040\n",
    "  for i in range(users):\n",
    "    temp = []\n",
    "    for j in range(items):\n",
    "      temp.append(-1);\n",
    "    mat.append(temp)\n",
    "    # MatrixForTest.append(temp)\n",
    "    # print(len(MatrixForTrain))\n",
    "\n",
    "build(MatrixForTrain)\n",
    "build(MatrixForTest)"
   ]
  },
  {
   "cell_type": "code",
   "execution_count": 4,
   "metadata": {},
   "outputs": [
    {
     "name": "stdout",
     "output_type": "stream",
     "text": [
      "6040\n"
     ]
    }
   ],
   "source": [
    "print(len(MatrixForTrain))"
   ]
  },
  {
   "cell_type": "code",
   "execution_count": 130,
   "metadata": {},
   "outputs": [],
   "source": [
    "\n",
    "def function(user, train, idx, test):\n",
    "    num = int(len(user)*0.8)\n",
    "    for i in range(0, num):\n",
    "        ls = user[i]\n",
    "        train[idx][ls[0]] = ls[1]\n",
    "    \n",
    "    for i in range(i, len(user)):\n",
    "        ls = user[i]\n",
    "        test[idx][ls[0]] = ls[1]\n"
   ]
  },
  {
   "cell_type": "code",
   "execution_count": 137,
   "metadata": {},
   "outputs": [],
   "source": [
    "for i in range(0, len(mat)):\n",
    "    function(mat[i], MatrixForTrain, i, MatrixForTest)"
   ]
  },
  {
   "cell_type": "code",
   "execution_count": 6,
   "metadata": {},
   "outputs": [],
   "source": [
    "preprocessDataPath = r'C:\\Users\\ASUS\\Desktop\\CF\\preprocess.txt'\n",
    "Open1 = open(preprocessDataPath, 'r')\n",
    "preprocessRaw = Open1.read()\n",
    "preProcess = preprocessRaw.split(\"\\n\")"
   ]
  },
  {
   "cell_type": "code",
   "execution_count": 7,
   "metadata": {},
   "outputs": [],
   "source": [
    "def getRowForPreProcess(preProcess, idx):\n",
    "    row = preProcess[idx].strip(']')\n",
    "    row = row.strip('[')\n",
    "    row = row.split(',')\n",
    "    for j in range(len(row)):\n",
    "        row[j] = float(row[j])\n",
    "    \n",
    "    return row\n",
    "\n",
    "def getPreProcessMatrix(preProcess):\n",
    "    matrix = []\n",
    "    for idx in range(0, len(preProcess)-1):\n",
    "        # print(idx)\n",
    "        matrix.append(getRowForPreProcess(preProcess, idx))\n",
    "    matrix.append([])\n",
    "    return matrix"
   ]
  },
  {
   "cell_type": "code",
   "execution_count": 8,
   "metadata": {},
   "outputs": [],
   "source": [
    "PrepocessData = getPreProcessMatrix(preProcess)\n",
    "# print(preProcess[len(preProcess)-1])"
   ]
  },
  {
   "cell_type": "code",
   "execution_count": 10,
   "metadata": {},
   "outputs": [],
   "source": [
    "import math\n",
    "\n",
    "def varianceWeight(vector1, vector2):\n",
    "  mean1 = 0\n",
    "  mean2 = 0\n",
    "  count = 0\n",
    "  for i in range(len(vector1)):\n",
    "    if(vector1[i]!=-1 and vector2[i]!=-1):\n",
    "      mean1 = mean1 + vector1[i]\n",
    "      mean2 = mean2 + vector2[i]\n",
    "      count = count + 1\n",
    "\n",
    "  if(count!=0):\n",
    "    mean1 = round(float(mean1)/count, 2)\n",
    "    mean2 = round(float(mean2)/count, 2)\n",
    "  a2 = 0\n",
    "  b2 = 0\n",
    "  ab = 0\n",
    "  for i in range(len(vector1)):\n",
    "    if(vector1[i]!=-1 and vector2[i]!=-1):\n",
    "      tempA = vector1[i] - mean1\n",
    "      tempB = vector2[i] - mean2\n",
    "      a2 = a2 + tempA*tempA\n",
    "      b2 = b2 + tempB*tempB\n",
    "      ab = tempA*tempB\n",
    "  if(a2==0 or b2==0 or ab==0):\n",
    "    return 0\n",
    "  return round(float(ab)/(math.sqrt(a2)*math.sqrt(b2)),2)"
   ]
  },
  {
   "cell_type": "code",
   "execution_count": 12,
   "metadata": {},
   "outputs": [],
   "source": [
    "def variancesimlarity(mat):\n",
    "  matrix=[]\n",
    "  for i in range(len(mat)):\n",
    "    temp = []\n",
    "    print(i)\n",
    "    for j in range(i+1, len(mat)):  \n",
    "      temp.append(varianceWeight(mat[i], mat[j]))\n",
    "    matrix.append(temp) \n",
    "  return matrix "
   ]
  },
  {
   "cell_type": "code",
   "execution_count": null,
   "metadata": {},
   "outputs": [],
   "source": [
    "Variance = variancesimlarity(MatrixForTrain)"
   ]
  },
  {
   "cell_type": "code",
   "execution_count": 28,
   "metadata": {},
   "outputs": [],
   "source": [
    "userMean =[]\n",
    "for i in range(len(MatrixForTrain)):\n",
    "  tempCount = 0\n",
    "  temp = 0\n",
    "  for j in range(len(MatrixForTrain[i])):\n",
    "    if(MatrixForTrain[i][j]!=-1):\n",
    "      temp = temp + MatrixForTrain[i][j]\n",
    "      tempCount = tempCount + 1\n",
    "  if(tempCount==0):\n",
    "    userMean.append(1)\n",
    "  else:\n",
    "    userMean.append(float(temp)/tempCount)"
   ]
  },
  {
   "cell_type": "code",
   "execution_count": 88,
   "metadata": {},
   "outputs": [],
   "source": [
    "def predict(matTrain, matSimilarity, userMean, item, user, K):\n",
    "  similarities = {}\n",
    "  for i in range(0, 943):\n",
    "    if(i!=user):\n",
    "      mi = min(user, i)\n",
    "      ma = max(user, i)\n",
    "      sim = matSimilarity[mi][ma-mi-1]\n",
    "      if(mi==user):\n",
    "        similarities[ma] = sim\n",
    "      else:\n",
    "        similarities[mi] = sim\n",
    "  sortedSimilarity = sorted(similarities.items(), key=lambda x:x[1])\n",
    "  simItem = []\n",
    "  i = len(sortedSimilarity)-1\n",
    "  while(len(simItem)!=K and i>=0):\n",
    "    u = sortedSimilarity[i][0]\n",
    "    it = matTrain[u][item]\n",
    "    if(it!=-1):\n",
    "      ls = []\n",
    "      ls.append(sortedSimilarity[i][1])\n",
    "      ls.append(it- userMean[u])\n",
    "      simItem.append(ls)\n",
    "    i = i - 1\n",
    "\n",
    "  upper = 0\n",
    "  # print(simItem)\n",
    "  lower = 0\n",
    "  # print(sim[0][1])\n",
    "  for i in range(len(simItem)):\n",
    "    lower = lower + abs(simItem[i][0])\n",
    "    upper = upper + simItem[i][0]*simItem[i][1]\n",
    "\n",
    "  if(lower==0):\n",
    "    return round(userMean[user] + 0)\n",
    "  ans = upper/lower\n",
    "  if(ans==0):\n",
    "    return  2.5\n",
    "  ans = round(userMean[user] + ans)\n",
    "  return ans"
   ]
  },
  {
   "cell_type": "code",
   "execution_count": 89,
   "metadata": {},
   "outputs": [],
   "source": [
    "def MAE(X, Y):\n",
    "  count = 0\n",
    "  for i in range(len(X)):\n",
    "    count = count + (abs(X[i] - Y[i]))\n",
    "  return float(count)/float(len(X))"
   ]
  },
  {
   "cell_type": "code",
   "execution_count": 90,
   "metadata": {},
   "outputs": [],
   "source": [
    "def NMAE(X, Y):\n",
    "  val = MAE(X, Y)\n",
    "  i = max(X)-min(X)\n",
    "  if(i!=0):\n",
    "    return val/i\n",
    "  return val"
   ]
  },
  {
   "cell_type": "code",
   "execution_count": 91,
   "metadata": {},
   "outputs": [],
   "source": [
    "def RMSE(X, Y):\n",
    "    val = 0\n",
    "    for i in range(len(X)):\n",
    "        num = abs(X[i]-Y[i])\n",
    "        num = num**2\n",
    "        val = val + num\n",
    "    print(val)\n",
    "    val = val/len(X)\n",
    "    print(val)\n",
    "    return val**0.5\n"
   ]
  },
  {
   "cell_type": "code",
   "execution_count": 92,
   "metadata": {},
   "outputs": [],
   "source": [
    "def predict_all(listForTest, matrixUser, matrixSimilarity, userMean, K):\n",
    "  ls = []\n",
    "  for i in range(len(listForTest)):\n",
    "    u = listForTest[i][0]\n",
    "    i = listForTest[i][1]\n",
    "    temp = predict(matrixUser, matrixSimilarity,userMean, i, u, K)\n",
    "    ls.append(temp)\n",
    "  return ls"
   ]
  },
  {
   "cell_type": "code",
   "execution_count": 138,
   "metadata": {},
   "outputs": [],
   "source": [
    "def hm(matforTest, listForTest):\n",
    "  hm = []\n",
    "  for i in range(len(listForTest)):\n",
    "    temp = matforTest[listForTest[i][0]][listForTest[i][1]]\n",
    "    hm.append(temp)\n",
    "  return hm"
   ]
  },
  {
   "cell_type": "code",
   "execution_count": 141,
   "metadata": {},
   "outputs": [],
   "source": [
    "def getUserItemForTest(mat):\n",
    "  ls = []\n",
    "  for i in range(len(mat)):\n",
    "    for j in range(len(mat[i])):\n",
    "      if(mat[i][j]!=-1):\n",
    "        temp = []\n",
    "        temp.append(i)\n",
    "        temp.append(j)\n",
    "        ls.append(temp)\n",
    "  return ls"
   ]
  },
  {
   "cell_type": "code",
   "execution_count": 142,
   "metadata": {},
   "outputs": [],
   "source": [
    "listForTest = getUserItemForTest(MatrixForTest)"
   ]
  },
  {
   "cell_type": "code",
   "execution_count": 143,
   "metadata": {},
   "outputs": [
    {
     "name": "stdout",
     "output_type": "stream",
     "text": [
      "306922\n"
     ]
    }
   ],
   "source": [
    "print(len(listForTest))"
   ]
  },
  {
   "cell_type": "code",
   "execution_count": 96,
   "metadata": {},
   "outputs": [],
   "source": [
    "result = predict_all(listForTest, MatrixForTest, PrepocessData, userMean, 10)"
   ]
  },
  {
   "cell_type": "code",
   "execution_count": 19,
   "metadata": {},
   "outputs": [],
   "source": [
    "f = open(\"midProcessing.txt\", \"a\")\n",
    "# f.write(\"Now the file has more content!\")\n",
    "for i in result:\n",
    "    temp = str(i) +\"\\n\"\n",
    "    f.write(temp)\n",
    "f.close()"
   ]
  },
  {
   "cell_type": "code",
   "execution_count": 135,
   "metadata": {},
   "outputs": [],
   "source": [
    "test = hm(MatrixForTest, listForTest)"
   ]
  },
  {
   "cell_type": "code",
   "execution_count": 98,
   "metadata": {},
   "outputs": [
    {
     "name": "stdout",
     "output_type": "stream",
     "text": [
      "0.20335663458468275\n",
      "380948.75\n",
      "1.2411907585640651\n",
      "1.1140874106478653\n"
     ]
    }
   ],
   "source": [
    "print(NMAE(test, result))\n",
    "print(RMSE(test, result))"
   ]
  },
  {
   "cell_type": "code",
   "execution_count": 100,
   "metadata": {},
   "outputs": [],
   "source": [
    "def updateFin(matForUser, listOfIndex, values, userMean):\n",
    "  for i in range(len(listOfIndex)):\n",
    "    matForUser[listOfIndex[i][0]][listOfIndex[i][1]] = values[i]\n",
    "  \n",
    "  for i in range(len(matForUser)):\n",
    "    for j in range(len(matForUser[i])):\n",
    "      if(matForUser[i][j]==-1):\n",
    "        matForUser[i][j] = userMean[i]\n",
    "      matForUser[i][j] = float(matForUser[i][j])  "
   ]
  },
  {
   "cell_type": "code",
   "execution_count": 101,
   "metadata": {},
   "outputs": [],
   "source": [
    "updateFin(MatrixForTrain, listForTest, result, userMean)"
   ]
  },
  {
   "cell_type": "code",
   "execution_count": 102,
   "metadata": {},
   "outputs": [],
   "source": [
    "def fillMean(matforUser, userMean):\n",
    "  for i in range(len(matforUser)):\n",
    "    for j in range(len(matforUser[i])):\n",
    "      if(matforUser[i][j]==-1):\n",
    "        matforUser[i][j] = userMean[i]\n",
    "      matforUser[i][j] = float(matforUser[i][j])"
   ]
  },
  {
   "cell_type": "code",
   "execution_count": 37,
   "metadata": {},
   "outputs": [],
   "source": [
    "fillMean(MatrixForTrain, userMean)"
   ]
  },
  {
   "cell_type": "code",
   "execution_count": 103,
   "metadata": {},
   "outputs": [],
   "source": [
    "def getResullts(listOfIndex, R_hat):\n",
    "  resultForUser= []\n",
    "  for i in range(len(listOfIndex)):\n",
    "    resultForUser.append(int(round(R_hat[listOfIndex[i][0]][listOfIndex[i][1]])))\n",
    "    if(resultForUser[i-1]<3):\n",
    "      resultForUser[i-1] = resultForUser[i-1]+0.2\n",
    "    # resultForUser.append(R_hat[listOfIndex[i][0]][listOfIndex[i][1]])\n",
    "  return resultForUser"
   ]
  },
  {
   "cell_type": "code",
   "execution_count": 105,
   "metadata": {},
   "outputs": [],
   "source": [
    "import numpy as np\n",
    "import statistics as st\n",
    "from scipy.sparse.linalg import svds\n",
    "\n",
    "def getFinalResults(matForTrain, listForTest, testU, K, userMean):\n",
    "  R = [[]]\n",
    "  for i in range (5):\n",
    "    U, sigma, v = svds(np.array(matForTrain), 25)\n",
    "    sigma = np.diag(sigma)\n",
    "    R = np.dot(np.dot(U, sigma), v)\n",
    "  \n",
    "  for i in range(len(R)):\n",
    "    for j in range(len(R[0])):\n",
    "      R[i][j] = int(round(R[i][j]))\n",
    "  resultOfUser = getResullts(listForTest, R)\n",
    "  val = MAE(testU, resultOfUser)\n",
    "\n",
    "  print(st.mean(testU))\n",
    "  print(st.mean(resultOfUser))\n",
    "  print(\"MAE: \", val)\n",
    "  print(\"NMAE: \", NMAE(testU, resultOfUser))\n",
    "  print(\"RMSE: \", RMSE(testU, resultOfUser))"
   ]
  },
  {
   "cell_type": "code",
   "execution_count": 106,
   "metadata": {},
   "outputs": [
    {
     "name": "stdout",
     "output_type": "stream",
     "text": [
      "3.5964056014231627\n",
      "3.6159219606284334\n",
      "MAE:  0.7514560702719513\n",
      "NMAE:  0.18786401756798782\n",
      "323996.8000000137\n",
      "1.0556323756524906\n",
      "RMSE:  1.0274397187438737\n"
     ]
    }
   ],
   "source": [
    "getFinalResults(MatrixForTrain, listForTest,  test, [30,15, 20, 25], userMean)"
   ]
  },
  {
   "cell_type": "code",
   "execution_count": 136,
   "metadata": {},
   "outputs": [
    {
     "name": "stdout",
     "output_type": "stream",
     "text": [
      "306922\n"
     ]
    }
   ],
   "source": [
    "print(len(test))"
   ]
  },
  {
   "cell_type": "code",
   "execution_count": 63,
   "metadata": {},
   "outputs": [
    {
     "name": "stdout",
     "output_type": "stream",
     "text": [
      "MAE:  0.7848962828398699\n",
      "NMAE:  0.19622407070996747\n",
      "298802.39915603446\n",
      "0.9735450673331806\n",
      "RMSE:  0.9866838740615864\n"
     ]
    }
   ],
   "source": [
    "getFinalResults(MatrixForTrain, listForTest,  test, [20], userMean)"
   ]
  },
  {
   "cell_type": "code",
   "execution_count": 61,
   "metadata": {},
   "outputs": [
    {
     "name": "stdout",
     "output_type": "stream",
     "text": [
      "MAE:  0.7519858465668802\n",
      "NMAE:  0.18799646164172004\n"
     ]
    }
   ],
   "source": [
    "getFinalResults(MatrixForTrain, listForTest,  test, 12, userMean)"
   ]
  },
  {
   "cell_type": "code",
   "execution_count": 62,
   "metadata": {},
   "outputs": [
    {
     "name": "stdout",
     "output_type": "stream",
     "text": [
      "MAE:  0.7507738122389402\n",
      "NMAE:  0.18769345305973506\n"
     ]
    }
   ],
   "source": [
    "getFinalResults(MatrixForTrain, listForTest,  test, 15, userMean)"
   ]
  },
  {
   "cell_type": "code",
   "execution_count": 63,
   "metadata": {},
   "outputs": [
    {
     "name": "stdout",
     "output_type": "stream",
     "text": [
      "MAE:  0.7502590234652452\n",
      "NMAE:  0.1875647558663113\n"
     ]
    }
   ],
   "source": [
    "getFinalResults(MatrixForTrain, listForTest,  test, 30, userMean)"
   ]
  },
  {
   "cell_type": "code",
   "execution_count": 118,
   "metadata": {},
   "outputs": [],
   "source": [
    "import numpy as np\n",
    "import pandas as pd\n",
    "from tensorflow import keras\n",
    "from sklearn.decomposition import TruncatedSVD\n",
    "from sklearn.model_selection import train_test_split\n",
    "from keras.layers import Input, Dense, Dropout\n",
    "from keras.models import Model\n"
   ]
  },
  {
   "cell_type": "code",
   "execution_count": 113,
   "metadata": {},
   "outputs": [],
   "source": [
    "dictionary = {\n",
    "    'userId' : DATA[0],\n",
    "    'movieId' : DATA[1],\n",
    "    'rating' : DATA[2]\n",
    "}\n",
    "\n",
    "data = pd.DataFrame(dictionary)"
   ]
  },
  {
   "cell_type": "code",
   "execution_count": 114,
   "metadata": {},
   "outputs": [],
   "source": [
    "num_users = len(data['userId'].unique())\n",
    "num_items = len(data['movieId'].unique())"
   ]
  },
  {
   "cell_type": "code",
   "execution_count": 115,
   "metadata": {},
   "outputs": [],
   "source": [
    "train_data, test_data = train_test_split(data, test_size=0.2)"
   ]
  },
  {
   "cell_type": "code",
   "execution_count": 123,
   "metadata": {},
   "outputs": [],
   "source": [
    "def create_ncf_model(num_users, num_items, embedding_size=32, hidden_units=[128, 64, 32, 16]):\n",
    "    # Input layers for user and item ids\n",
    "    user_input = Input(shape=(1,), name='user_input')\n",
    "    item_input = Input(shape=(1,), name='item_input')\n",
    "    \n",
    "    # Embedding layers for user and item ids\n",
    "    user_embedding = Dense(embedding_size, name='user_embedding')(user_input)\n",
    "    item_embedding = Dense(embedding_size, name='item_embedding')(item_input)\n",
    "    \n",
    "    # Concatenate the user and item embeddings\n",
    "    concatenated = keras.layers.Concatenate()([user_embedding, item_embedding])\n",
    "    \n",
    "    # Add hidden layers with dropout\n",
    "    for i, units in enumerate(hidden_units):\n",
    "        concatenated = Dense(units, activation='relu', name=f'hidden_layer_{i}')(concatenated)\n",
    "        concatenated = Dropout(0.5)(concatenated)\n",
    "    \n",
    "    # Output layer with sigmoid activation\n",
    "    output = Dense(1, activation='sigmoid', name='output_layer')(concatenated)\n",
    "    \n",
    "    # Create the Keras model\n",
    "    model = Model(inputs=[user_input, item_input], outputs=output)\n",
    "    \n",
    "    return model\n"
   ]
  },
  {
   "cell_type": "code",
   "execution_count": 125,
   "metadata": {},
   "outputs": [],
   "source": [
    "\n",
    "model = create_ncf_model(num_users, num_items)\n",
    "model.compile(loss='binary_crossentropy', optimizer='adam')"
   ]
  },
  {
   "cell_type": "code",
   "execution_count": 126,
   "metadata": {},
   "outputs": [],
   "source": [
    "history = model.fit([train_data['userId'], train_data['movieId']], train_data['rating'], \n",
    "                    batch_size=64, epochs=10, validation_split=0.2, verbose = 0)"
   ]
  },
  {
   "cell_type": "code",
   "execution_count": 122,
   "metadata": {},
   "outputs": [
    {
     "name": "stdout",
     "output_type": "stream",
     "text": [
      "6252/6252 [==============================] - 6s 995us/step\n"
     ]
    }
   ],
   "source": [
    "predictions = model.predict([test_data['userId'], test_data['movieId']])"
   ]
  },
  {
   "cell_type": "code",
   "execution_count": 127,
   "metadata": {},
   "outputs": [],
   "source": [
    "y_pred = []\n",
    "for i in range(0, len(predictions)):\n",
    "    y_pred.append(float(predictions[i][0]))"
   ]
  }
 ],
 "metadata": {
  "kernelspec": {
   "display_name": "Python 3.10.4 64-bit",
   "language": "python",
   "name": "python3"
  },
  "language_info": {
   "codemirror_mode": {
    "name": "ipython",
    "version": 3
   },
   "file_extension": ".py",
   "mimetype": "text/x-python",
   "name": "python",
   "nbconvert_exporter": "python",
   "pygments_lexer": "ipython3",
   "version": "3.10.4"
  },
  "orig_nbformat": 4,
  "vscode": {
   "interpreter": {
    "hash": "369f2c481f4da34e4445cda3fffd2e751bd1c4d706f27375911949ba6bb62e1c"
   }
  }
 },
 "nbformat": 4,
 "nbformat_minor": 2
}
