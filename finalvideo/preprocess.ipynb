{
 "cells": [
  {
   "cell_type": "markdown",
   "metadata": {},
   "source": [
    "# Data preprocessing"
   ]
  },
  {
   "cell_type": "code",
   "execution_count": 21,
   "metadata": {},
   "outputs": [
    {
     "name": "stderr",
     "output_type": "stream",
     "text": [
      "C:\\Users\\ABHIJEET\\AppData\\Local\\Temp\\ipykernel_6716\\3257095436.py:6: ParserWarning: Falling back to the 'python' engine because the 'c' engine does not support regex separators (separators > 1 char and different from '\\s+' are interpreted as regex); you can avoid this warning by specifying engine='python'.\n",
      "  users = pd.read_csv('ml-1m/users.dat', sep='::', header=None,encoding='ISO-8859-1')\n",
      "C:\\Users\\ABHIJEET\\AppData\\Local\\Temp\\ipykernel_6716\\3257095436.py:9: ParserWarning: Falling back to the 'python' engine because the 'c' engine does not support regex separators (separators > 1 char and different from '\\s+' are interpreted as regex); you can avoid this warning by specifying engine='python'.\n",
      "  movies = pd.read_csv('ml-1m/movies.dat', sep='::', header=None,encoding='ISO-8859-1')\n"
     ]
    }
   ],
   "source": [
    "import pandas as pd\n",
    "import numpy as np\n",
    "from scipy.sparse import coo_matrix\n",
    "\n",
    "\n",
    "users = pd.read_csv('ml-1m/users.dat', sep='::', header=None,encoding='ISO-8859-1')\n",
    "users.columns = ['user_id', 'gender', 'age', 'occupation', 'zip_code']\n",
    "\n",
    "movies = pd.read_csv('ml-1m/movies.dat', sep='::', header=None,encoding='ISO-8859-1')\n",
    "movies.columns = ['movie_id', 'title', 'genres']\n",
    "\n",
    "movie_to_index = {}\n",
    "for i, movie_id in enumerate(movies['movie_id'].unique()):\n",
    "    movie_to_index[movie_id] = i\n",
    "\n",
    "ratings = pd.read_csv('ml-1m/ratings.dat', sep='::', header=None, engine='python',encoding='ISO-8859-1')\n",
    "ratings.columns = ['user_id', 'movie_id', 'rating', 'timestamp']\n",
    "\n",
    "ratings['user_id'] = ratings['user_id'] - 1\n",
    "ratings['movie_id'] = ratings['movie_id'].apply(lambda x: movie_to_index[x])\n"
   ]
  },
  {
   "cell_type": "code",
   "execution_count": null,
   "metadata": {},
   "outputs": [],
   "source": [
    "movie_genre = pd.read_csv('ml-1m/movies.dat', sep='::', header=None, engine='python',encoding='ISO-8859-1')\n",
    "movie_genre.columns = ['movie_id', 'title', 'genres']\n",
    "genres = set()\n",
    "for g in movie_genre['genres']:\n",
    "    genres.update(g.split('|'))\n",
    "genre_dict = {g: i for i, g in enumerate(genres)}\n",
    "movie_genre_vec = []\n",
    "for g in movie_genre['genres']:\n",
    "    vec = np.zeros(len(genres))\n",
    "    for gg in g.split('|'):\n",
    "        vec[genre_dict[gg]] = 1\n",
    "    movie_genre_vec.append(vec)\n",
    "movie_genre_mat = np.array(movie_genre_vec)"
   ]
  },
  {
   "cell_type": "code",
   "execution_count": null,
   "metadata": {},
   "outputs": [],
   "source": [
    "num_users = ratings['user_id'].nunique()\n",
    "num_movies = len(movie_to_index)\n",
    "adj_matrix = np.zeros((num_users, num_movies))\n",
    "\n",
    "for _, row in ratings.iterrows():\n",
    "    user_id = row['user_id']\n",
    "    movie_id = row['movie_id']\n",
    "    rating = row['rating']\n",
    "    adj_matrix[user_id, movie_id] = rating\n",
    "\n",
    "adj_matrix = coo_matrix(adj_matrix)"
   ]
  },
  {
   "cell_type": "code",
   "execution_count": null,
   "metadata": {},
   "outputs": [],
   "source": [
    "from scipy.sparse import save_npz\n",
    "\n",
    "save_npz('adj_matrix.npz', adj_matrix)\n"
   ]
  },
  {
   "attachments": {},
   "cell_type": "markdown",
   "metadata": {},
   "source": [
    "##### Train-Val-Test Split for Model Inputs"
   ]
  },
  {
   "cell_type": "code",
   "execution_count": null,
   "metadata": {},
   "outputs": [],
   "source": [
    "ratings_subset = ratings[['user_id', 'movie_id', 'rating']]\n",
    "genre_cols = [genre for genre, index in sorted(genre_dict.items(), key=lambda x: x[0])]\n",
    "\n",
    "merged_data = pd.merge(ratings_subset, pd.DataFrame(movie_genre_mat, columns=genre_cols), left_on='movie_id', right_index=True)\n",
    "\n"
   ]
  },
  {
   "cell_type": "code",
   "execution_count": null,
   "metadata": {},
   "outputs": [],
   "source": [
    "merged_data.to_csv(\"preprocess.txt\",  sep='\\t', index=False)"
   ]
  },
  {
   "attachments": {},
   "cell_type": "markdown",
   "metadata": {},
   "source": [
    "# KGCN implementation"
   ]
  },
  {
   "cell_type": "code",
   "execution_count": null,
   "metadata": {},
   "outputs": [],
   "source": [
    "import tensorflow as tf\n",
    "from tensorflow.keras import Model, Input\n",
    "from tensorflow.keras.layers import Dense, Embedding, Concatenate, Dropout, Reshape\n",
    "from tensorflow.keras.optimizers import Adam\n",
    "from tensorflow.keras.regularizers import l2\n",
    "from tensorflow.keras.utils import plot_model\n",
    "from tensorflow.keras.metrics import RootMeanSquaredError\n",
    "\n",
    "num_users = ratings['user_id'].max()+1\n",
    "num_movies = ratings['movie_id'].max() +1\n",
    "\n",
    "num_genres = len(genre_dict)\n",
    "\n",
    "embedding_size = 32\n",
    "dropout_rate = 0.2\n",
    "learning_rate = 0.001\n",
    "num_epochs = 20\n",
    "batch_size = num_movies\n",
    "reg_lambda = 0.01\n",
    "\n",
    "user_input = Input(shape=(1,), name='user_input_kgcn')\n",
    "movie_input = Input(shape=(1,), name='movie_input_kgcn')\n",
    "\n",
    "user_embedding = Embedding(input_dim=num_users, output_dim=embedding_size,  name='user_embedding')(user_input)\n",
    "movie_embedding = Embedding(input_dim=num_movies, output_dim=embedding_size, name='movie_embedding')(movie_input)\n",
    "    \n",
    "user_embedding = Dropout(dropout_rate)(user_embedding)\n",
    "movie_embedding = Dropout(dropout_rate)(movie_embedding)\n"
   ]
  },
  {
   "cell_type": "code",
   "execution_count": null,
   "metadata": {},
   "outputs": [],
   "source": [
    "genre_input = Input(shape=(num_genres,), name='genre_input')\n",
    "genre_embedding = Dense(embedding_size, activation='relu', kernel_regularizer=l2(reg_lambda), name='genre_embedding')(genre_input)\n",
    "\n",
    "gcn_1 = tf.linalg.matmul(adj_matrix.toarray(), tf.cast(genre_embedding, tf.float64) , name='gcn_1')\n",
    "gcn_2 = tf.linalg.matmul(adj_matrix.toarray().T, gcn_1, name='gcn_2')\n",
    "gcn_2_reshaped = tf.expand_dims(gcn_2, axis=1)\n",
    "\n",
    "user_movie_concat = Concatenate()([user_embedding, movie_embedding])\n",
    "user_movie_genre_concat = Concatenate(axis=2)([user_movie_concat, gcn_2_reshaped])\n",
    "\n",
    "dense_1 = Dense(64, activation='relu', kernel_regularizer=l2(reg_lambda), name='dense_1')(user_movie_genre_concat)\n",
    "dense_2 = Dense(32, activation='relu', kernel_regularizer=l2(reg_lambda), name='dense_2')(dense_1)\n",
    "output = Dense(1, activation='linear', name='output')(dense_2)\n",
    "\n",
    "kgcn_model = Model(inputs=[user_input, movie_input, genre_input], outputs=output)\n"
   ]
  },
  {
   "cell_type": "code",
   "execution_count": null,
   "metadata": {},
   "outputs": [],
   "source": [
    "optimizer = Adam(learning_rate=learning_rate)\n",
    "rmse = RootMeanSquaredError()\n",
    "kgcn_model.compile(loss='mse', optimizer=optimizer, metrics=[rmse])"
   ]
  },
  {
   "cell_type": "code",
   "execution_count": null,
   "metadata": {},
   "outputs": [],
   "source": [
    "\n",
    "from sklearn.model_selection import train_test_split\n",
    "\n",
    "train_data, test_data = train_test_split(merged_data, test_size=0.2, random_state=42)\n",
    "\n",
    "train_data, val_data = train_test_split(train_data, test_size=0.2, random_state=42)\n",
    "\n",
    "num_users = ratings['user_id'].max()+1\n",
    "num_movies = ratings['movie_id'].max() +1\n",
    "num_genres = len(genre_dict)\n",
    "batch_size = num_movies\n",
    "\n",
    "train_users = np.array(train_data['user_id'])\n",
    "train_movies = np.array(train_data['movie_id'])\n",
    "train_movie_genre = np.array(train_data[genre_cols])\n",
    "train_ratings = np.array(train_data['rating'])\n",
    "consistent_length = (train_users.shape[0] // batch_size) * batch_size\n",
    "train_users = train_users[:consistent_length]\n",
    "train_movies = train_movies[:consistent_length]\n",
    "train_movie_genre = train_movie_genre[:consistent_length]\n",
    "train_ratings = train_ratings[:consistent_length]\n",
    "\n",
    "\n",
    "val_users = np.array(val_data['user_id'])\n",
    "val_movies = np.array(val_data['movie_id'])\n",
    "val_movie_genre = np.array(val_data[genre_cols])\n",
    "val_ratings = np.array(val_data['rating'])\n",
    "consistent_length = (val_users.shape[0] // batch_size) * batch_size\n",
    "val_users = val_users[:consistent_length]\n",
    "val_movies = val_movies[:consistent_length]\n",
    "val_movie_genre = val_movie_genre[:consistent_length]\n",
    "val_ratings = val_ratings[:consistent_length]\n",
    "\n",
    "test_users = np.array(test_data['user_id'])\n",
    "test_movies = np.array(test_data['movie_id'])\n",
    "test_movie_genre = np.array(test_data[genre_cols])\n",
    "test_ratings = np.array(test_data['rating'])\n",
    "consistent_length = (test_users.shape[0] // batch_size) * batch_size\n",
    "test_users = test_users[:consistent_length]\n",
    "test_movies = test_movies[:consistent_length]\n",
    "test_movie_genre = test_movie_genre[:consistent_length]\n",
    "test_ratings = test_ratings[:consistent_length]"
   ]
  },
  {
   "cell_type": "code",
   "execution_count": null,
   "metadata": {},
   "outputs": [],
   "source": [
    "history = kgcn_model.fit([train_users, train_movies, train_movie_genre], train_ratings, validation_data=([val_users, val_movies, val_movie_genre], val_ratings),batch_size=batch_size, epochs=2, verbose=0)\n",
    "\n",
    "kgcn_model.save('kgcn_model.h5')"
   ]
  },
  {
   "cell_type": "code",
   "execution_count": null,
   "metadata": {},
   "outputs": [],
   "source": [
    "test_loss, test_rmse = kgcn_model.evaluate([test_users, test_movies, test_movie_genre], test_ratings, batch_size=batch_size,verbose =0)"
   ]
  },
  {
   "cell_type": "code",
   "execution_count": null,
   "metadata": {},
   "outputs": [],
   "source": [
    "from sklearn.metrics import mean_squared_error\n",
    "\n",
    "test_preds = kgcn_model.predict([test_users, test_movies, test_movie_genre], batch_size=batch_size, verbose=0)\n",
    "test_rmse = np.sqrt(mean_squared_error(test_ratings, np.squeeze(test_preds)))"
   ]
  }
 ],
 "metadata": {
  "kernelspec": {
   "display_name": "Python 3",
   "language": "python",
   "name": "python3"
  },
  "language_info": {
   "codemirror_mode": {
    "name": "ipython",
    "version": 3
   },
   "file_extension": ".py",
   "mimetype": "text/x-python",
   "name": "python",
   "nbconvert_exporter": "python",
   "pygments_lexer": "ipython3",
   "version": "3.10.5"
  },
  "orig_nbformat": 4
 },
 "nbformat": 4,
 "nbformat_minor": 2
}
